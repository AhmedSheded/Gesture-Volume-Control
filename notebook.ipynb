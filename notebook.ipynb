{
 "cells": [
  {
   "cell_type": "code",
   "execution_count": 27,
   "outputs": [
    {
     "ename": "ImportError",
     "evalue": "cannot import name 'COMError' from '_ctypes' (/usr/lib/python3.10/lib-dynload/_ctypes.cpython-310-x86_64-linux-gnu.so)",
     "output_type": "error",
     "traceback": [
      "\u001B[0;31m---------------------------------------------------------------------------\u001B[0m",
      "\u001B[0;31mImportError\u001B[0m                               Traceback (most recent call last)",
      "Cell \u001B[0;32mIn[27], line 2\u001B[0m\n\u001B[1;32m      1\u001B[0m \u001B[38;5;28;01mfrom\u001B[39;00m \u001B[38;5;21;01mctypes\u001B[39;00m \u001B[38;5;28;01mimport\u001B[39;00m cast, POINTER\n\u001B[0;32m----> 2\u001B[0m \u001B[38;5;28;01mfrom\u001B[39;00m \u001B[38;5;21;01mcomtypes\u001B[39;00m \u001B[38;5;28;01mimport\u001B[39;00m CLSCTX_ALL\n\u001B[1;32m      3\u001B[0m \u001B[38;5;28;01mfrom\u001B[39;00m \u001B[38;5;21;01mpycaw\u001B[39;00m\u001B[38;5;21;01m.\u001B[39;00m\u001B[38;5;21;01mpycaw\u001B[39;00m \u001B[38;5;28;01mimport\u001B[39;00m AudioUtilities, IAudioEndpointVolume\n\u001B[1;32m      5\u001B[0m devices \u001B[38;5;241m=\u001B[39m AudioUtilities\u001B[38;5;241m.\u001B[39mGetSpeakers()\n",
      "File \u001B[0;32m~/DataspellProjects/Gesture Volume Control/env/lib/python3.10/site-packages/comtypes/__init__.py:28\u001B[0m\n\u001B[1;32m     25\u001B[0m logger\u001B[38;5;241m.\u001B[39maddHandler(NullHandler())\n\u001B[1;32m     27\u001B[0m \u001B[38;5;28;01mfrom\u001B[39;00m \u001B[38;5;21;01mctypes\u001B[39;00m \u001B[38;5;28;01mimport\u001B[39;00m \u001B[38;5;241m*\u001B[39m\n\u001B[0;32m---> 28\u001B[0m \u001B[38;5;28;01mfrom\u001B[39;00m \u001B[38;5;21;01m_ctypes\u001B[39;00m \u001B[38;5;28;01mimport\u001B[39;00m COMError\n\u001B[1;32m     29\u001B[0m \u001B[38;5;28;01mfrom\u001B[39;00m \u001B[38;5;21;01mcomtypes\u001B[39;00m \u001B[38;5;28;01mimport\u001B[39;00m patcher\n\u001B[1;32m     31\u001B[0m \u001B[38;5;28;01mdef\u001B[39;00m \u001B[38;5;21m_check_version\u001B[39m(actual, tlib_cached_mtime\u001B[38;5;241m=\u001B[39m\u001B[38;5;28;01mNone\u001B[39;00m):\n",
      "\u001B[0;31mImportError\u001B[0m: cannot import name 'COMError' from '_ctypes' (/usr/lib/python3.10/lib-dynload/_ctypes.cpython-310-x86_64-linux-gnu.so)"
     ]
    }
   ],
   "source": [
    "from ctypes import cast, POINTER\n",
    "from comtypes import CLSCTX_ALL\n",
    "from pycaw.pycaw import AudioUtilities, IAudioEndpointVolume\n",
    "\n",
    "devices = AudioUtilities.GetSpeakers()\n",
    "interface = devices.Activate(IAudioEndpointVolume._iid_, CLSCTX_ALL, None)\n",
    "volume = cast(interface, POINTER(IAudioEndpointVolume))\n",
    "volume.GetMute()\n",
    "volume.GetMasterVolumeLevel()\n",
    "volume.GetVolumeRange()\n",
    "volume.SetMasterVolumeLevel(-20.0, None)"
   ],
   "metadata": {
    "collapsed": false
   }
  },
  {
   "cell_type": "code",
   "execution_count": 28,
   "outputs": [
    {
     "name": "stdout",
     "output_type": "stream",
     "text": [
      "[sudo] password for sheded: \r\n"
     ]
    }
   ],
   "source": [
    "!sudo apt install python3 python3-tk python3-dev python3-venv libasound2-dev portaudio19-dev"
   ],
   "metadata": {
    "collapsed": false
   }
  },
  {
   "cell_type": "code",
   "execution_count": null,
   "outputs": [],
   "source": [
    "from voluxcliprint import VoluxCliPrint\n",
    "from voluxaudio import VoluxAudio\n",
    "from voluxGui import VoluxGui"
   ],
   "metadata": {
    "collapsed": false
   }
  },
  {
   "cell_type": "code",
   "execution_count": 29,
   "outputs": [
    {
     "name": "stdout",
     "output_type": "stream",
     "text": [
      "Collecting Mopidy-ALSAMixer\r\n",
      "  Downloading Mopidy_ALSAMixer-2.0.1-py3-none-any.whl (9.9 kB)\r\n",
      "Requirement already satisfied: setuptools in ./env/lib/python3.10/site-packages (from Mopidy-ALSAMixer) (65.5.1)\r\n",
      "Collecting Mopidy>=3.0.0\r\n",
      "  Downloading Mopidy-3.4.1-py3-none-any.whl (128 kB)\r\n",
      "\u001B[2K     \u001B[90m━━━━━━━━━━━━━━━━━━━━━━━━━━━━━━━━━━━━━\u001B[0m \u001B[32m128.8/128.8 kB\u001B[0m \u001B[31m849.8 kB/s\u001B[0m eta \u001B[36m0:00:00\u001B[0ma \u001B[36m0:00:01\u001B[0m\r\n",
      "\u001B[?25hCollecting pyalsaaudio\r\n",
      "  Using cached pyalsaaudio-0.9.2.tar.gz (599 kB)\r\n",
      "  Preparing metadata (setup.py) ... \u001B[?25ldone\r\n",
      "\u001B[?25hCollecting Pykka>=2.0.1\r\n",
      "  Downloading pykka-3.1.1-py3-none-any.whl (27 kB)\r\n",
      "Requirement already satisfied: tornado>=4.4 in ./env/lib/python3.10/site-packages (from Mopidy>=3.0.0->Mopidy-ALSAMixer) (6.2)\r\n",
      "Collecting requests>=2.0\r\n",
      "  Using cached requests-2.28.1-py3-none-any.whl (62 kB)\r\n",
      "Collecting urllib3<1.27,>=1.21.1\r\n",
      "  Downloading urllib3-1.26.13-py2.py3-none-any.whl (140 kB)\r\n",
      "\u001B[2K     \u001B[90m━━━━━━━━━━━━━━━━━━━━━━━━━━━━━━━━━━━━━━━\u001B[0m \u001B[32m140.6/140.6 kB\u001B[0m \u001B[31m1.2 MB/s\u001B[0m eta \u001B[36m0:00:00\u001B[0ma \u001B[36m0:00:01\u001B[0m\r\n",
      "\u001B[?25hCollecting charset-normalizer<3,>=2\r\n",
      "  Using cached charset_normalizer-2.1.1-py3-none-any.whl (39 kB)\r\n",
      "Requirement already satisfied: idna<4,>=2.5 in ./env/lib/python3.10/site-packages (from requests>=2.0->Mopidy>=3.0.0->Mopidy-ALSAMixer) (3.4)\r\n",
      "Collecting certifi>=2017.4.17\r\n",
      "  Downloading certifi-2022.12.7-py3-none-any.whl (155 kB)\r\n",
      "\u001B[2K     \u001B[90m━━━━━━━━━━━━━━━━━━━━━━━━━━━━━━━━━━━━━━━\u001B[0m \u001B[32m155.3/155.3 kB\u001B[0m \u001B[31m1.2 MB/s\u001B[0m eta \u001B[36m0:00:00\u001B[0ma \u001B[36m0:00:01\u001B[0m\r\n",
      "\u001B[?25hBuilding wheels for collected packages: pyalsaaudio\r\n",
      "  Building wheel for pyalsaaudio (setup.py) ... \u001B[?25ldone\r\n",
      "\u001B[?25h  Created wheel for pyalsaaudio: filename=pyalsaaudio-0.9.2-cp310-cp310-linux_x86_64.whl size=76101 sha256=6e5ece0138893edf191ddfe5597e3ac9f48ada8f57ad392471471a8d854e71de\r\n",
      "  Stored in directory: /home/sheded/.cache/pip/wheels/87/1e/e3/9d1e9f24b50705d7095e5694407656ac1bc333b0e61055dd40\r\n",
      "Successfully built pyalsaaudio\r\n",
      "Installing collected packages: pyalsaaudio, urllib3, Pykka, charset-normalizer, certifi, requests, Mopidy, Mopidy-ALSAMixer\r\n",
      "Successfully installed Mopidy-3.4.1 Mopidy-ALSAMixer-2.0.1 Pykka-3.1.1 certifi-2022.12.7 charset-normalizer-2.1.1 pyalsaaudio-0.9.2 requests-2.28.1 urllib3-1.26.13\r\n"
     ]
    }
   ],
   "source": [
    "!pip install Mopidy-ALSAMixer"
   ],
   "metadata": {
    "collapsed": false
   }
  },
  {
   "cell_type": "code",
   "execution_count": 1,
   "outputs": [],
   "source": [
    "import alsaaudio"
   ],
   "metadata": {
    "collapsed": false
   }
  },
  {
   "cell_type": "code",
   "execution_count": 6,
   "outputs": [
    {
     "name": "stdout",
     "output_type": "stream",
     "text": [
      "15\n"
     ]
    }
   ],
   "source": [
    "m = alsaaudio.Mixer()\n",
    "vol = m.getvolume()\n",
    "vol = int(vol[0])\n",
    "\n",
    "print(vol)\n",
    "m.setvolume(0)"
   ],
   "metadata": {
    "collapsed": false
   }
  },
  {
   "cell_type": "code",
   "execution_count": 9,
   "outputs": [
    {
     "data": {
      "text/plain": "[0, 0]"
     },
     "execution_count": 9,
     "metadata": {},
     "output_type": "execute_result"
    }
   ],
   "source": [
    "# m.setvolume(100)\n",
    "m.getmute()"
   ],
   "metadata": {
    "collapsed": false
   }
  },
  {
   "cell_type": "code",
   "execution_count": 35,
   "outputs": [],
   "source": [
    "newVol = vol + 10\n",
    "m.setvolume(newVol)"
   ],
   "metadata": {
    "collapsed": false
   }
  },
  {
   "cell_type": "code",
   "execution_count": 42,
   "outputs": [
    {
     "data": {
      "text/plain": "[35, 35]"
     },
     "execution_count": 42,
     "metadata": {},
     "output_type": "execute_result"
    }
   ],
   "source": [
    "vol = m.getvolume()\n",
    "vol"
   ],
   "metadata": {
    "collapsed": false
   }
  },
  {
   "cell_type": "code",
   "execution_count": 43,
   "outputs": [
    {
     "data": {
      "text/plain": "[0, 65536]"
     },
     "execution_count": 43,
     "metadata": {},
     "output_type": "execute_result"
    }
   ],
   "source": [
    "m.getrange()"
   ],
   "metadata": {
    "collapsed": false
   }
  },
  {
   "cell_type": "code",
   "execution_count": null,
   "outputs": [],
   "source": [],
   "metadata": {
    "collapsed": false
   }
  }
 ],
 "metadata": {
  "kernelspec": {
   "display_name": "Python 3",
   "language": "python",
   "name": "python3"
  },
  "language_info": {
   "codemirror_mode": {
    "name": "ipython",
    "version": 2
   },
   "file_extension": ".py",
   "mimetype": "text/x-python",
   "name": "python",
   "nbconvert_exporter": "python",
   "pygments_lexer": "ipython2",
   "version": "2.7.6"
  }
 },
 "nbformat": 4,
 "nbformat_minor": 0
}
